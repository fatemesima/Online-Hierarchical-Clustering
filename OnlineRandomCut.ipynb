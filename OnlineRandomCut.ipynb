{
  "nbformat": 4,
  "nbformat_minor": 0,
  "metadata": {
    "colab": {
      "provenance": [],
      "gpuType": "T4",
      "authorship_tag": "ABX9TyOMlUS6aZX5odOR9tCuY2J0",
      "include_colab_link": true
    },
    "kernelspec": {
      "name": "python3",
      "display_name": "Python 3"
    },
    "language_info": {
      "name": "python"
    },
    "accelerator": "GPU"
  },
  "cells": [
    {
      "cell_type": "markdown",
      "metadata": {
        "id": "view-in-github",
        "colab_type": "text"
      },
      "source": [
        "<a href=\"https://colab.research.google.com/github/fatemesima/Online-Hierarchical-Clustering/blob/main/OnlineRandomCut.ipynb\" target=\"_parent\"><img src=\"https://colab.research.google.com/assets/colab-badge.svg\" alt=\"Open In Colab\"/></a>"
      ]
    },
    {
      "cell_type": "code",
      "execution_count": null,
      "metadata": {
        "id": "Ocov0n_m_9l8"
      },
      "outputs": [],
      "source": [
        "import numpy as np\n",
        "from numpy.linalg import norm\n",
        "from scipy.spatial.distance import cosine\n",
        "from sklearn import datasets\n",
        "import matplotlib.pyplot as plt\n",
        "import random\n",
        "from tabulate import tabulate\n",
        "import matplotlib.pyplot as plt\n",
        "import pandas as pd\n",
        "import math\n",
        "from sklearn import datasets , decomposition\n",
        "import collections\n",
        "from random import sample\n",
        "from google.colab import files\n",
        "import io\n",
        "import time"
      ]
    },
    {
      "cell_type": "code",
      "source": [
        "import math\n",
        "def distd(x,y):\n",
        "    dis = 0\n",
        "    d = len(x)\n",
        "    for i in range(d):\n",
        "        dis += (x[i]-y[i])**2\n",
        "    return math.sqrt(dis)\n",
        "\n",
        "\n",
        "def diameter(s):\n",
        "    diam = 0\n",
        "    for x in s:\n",
        "        for y in s:\n",
        "            dis = distd(x,y)\n",
        "            if diam < dis:\n",
        "                diam = dis\n",
        "    return diam\n",
        "\n",
        "\n",
        "\n",
        "#dist when x and y is 1d\n",
        "def dist(x,y):\n",
        "    dis = abs(x-y)\n",
        "    return dis"
      ],
      "metadata": {
        "id": "o_cfw4gagcCI"
      },
      "execution_count": null,
      "outputs": []
    },
    {
      "cell_type": "code",
      "source": [
        "####DataSETS\n",
        "\n",
        "\n",
        "###iris\n",
        "# iris = datasets.load_iris()\n",
        "# data= iris.data\n",
        "# X = iris.data[:, :4]\n",
        "\n",
        "###mnist\n",
        "# url = 'https://raw.githubusercontent.com/prasertcbs/basic-dataset/master/MNIST.csv'\n",
        "# df1 = pd.read_csv(url)\n",
        "# X = df1.to_numpy()\n",
        "\n",
        "###glass\n",
        "\n",
        "# url = 'https://raw.githubusercontent.com/jbrownlee/Datasets/master/glass.csv'\n",
        "# df1 = pd.read_csv(url)\n",
        "# # Dataset is now stored in a Pandas Dataframe\n",
        "# df1.drop('1', inplace=True, axis=1)\n",
        "# df1.to_numpy()\n",
        "# X = np.vstack([df1, [ 1.52101 , 13.64 , 4.49 , 1.10 , 71.78 , 0.06, 8.75, 0.00, 0.00]])\n",
        "\n",
        "\n",
        "###zoo\n",
        "# url = 'https://raw.githubusercontent.com/sharmaroshan/Zoo-Dataset/master/zoo.csv'\n",
        "# data = pd.read_csv(url)\n",
        "# data.drop('animal_name', inplace=True, axis=1)\n",
        "# X= data.to_numpy()\n",
        "\n",
        "\n",
        "###r15\n",
        "!wget https://cs.joensuu.fi/sipu/datasets/R15.txt\n",
        "example1 = \"R15.txt\"\n",
        "from numpy.core.multiarray import datetime_data\n",
        "data=[]\n",
        "import re\n",
        "import numpy as np\n",
        "from ast import literal_eval\n",
        "with open(example1, \"r\") as file1:\n",
        "    for line in file1:\n",
        "      s=re.sub(\"[\\t]\", \",\" , line)\n",
        "      s.strip(\"\\n\")\n",
        "      data.append(s.rstrip(\"\\n\"))\n",
        "X = np.array([literal_eval(x) for x in data])\n",
        "X = np.delete(X,-1,axis=1)\n",
        "\n",
        "\n",
        "\n",
        "####Pathbased\n",
        "# !wget https://cs.joensuu.fi/sipu/datasets/pathbased.txt\n",
        "# example1 = \"pathbased.txt\"\n",
        "# from numpy.core.multiarray import datetime_data\n",
        "# data=[]\n",
        "# import re\n",
        "# import numpy as np\n",
        "# from ast import literal_eval\n",
        "# with open(example1, \"r\") as file1:\n",
        "#     for line in file1:\n",
        "#       s=re.sub(\"[\\t]\", \",\" , line)\n",
        "#       s.strip(\"\\n\")\n",
        "#       data.append(s.rstrip(\"\\n\"))\n",
        "# X = np.array([literal_eval(x) for x in data])\n",
        "# X = np.delete(X,-1,axis=1)\n",
        "\n",
        "####AGG\n",
        "# !wget https://cs.joensuu.fi/sipu/datasets/Aggregation.txt\n",
        "# example1 = \"Aggregation.txt\"\n",
        "# from numpy.core.multiarray import datetime_data\n",
        "# data=[]\n",
        "# import re\n",
        "# import numpy as np\n",
        "# from ast import literal_eval\n",
        "# with open(example1, \"r\") as file1:\n",
        "#     for line in file1:\n",
        "#       s=re.sub(\"[\\t]\", \",\" , line)\n",
        "#       s.strip(\"\\n\")\n",
        "#       data.append(s.rstrip(\"\\n\"))\n",
        "# X = np.array([literal_eval(x) for x in data])\n",
        "# X = np.delete(X,-1,axis=1)\n",
        "\n",
        "# #project\n",
        "(u,v) = np.shape(X)\n",
        "g =np.random.normal(0, 1, size=(v, 1))\n",
        "c= np.dot(X,g)\n",
        "Y = c.ravel().tolist()\n",
        "\n",
        "\n",
        "#Euclidean distance similarity\n",
        "# diam = diameter(X)\n",
        "\n",
        "# def simfunc(x,y):\n",
        "#     return (diam - distd(x,y))/diam\n",
        "\n",
        "\n",
        "\n",
        "#Gaussian kernel similarity\n",
        "def simfunc(x,z,sigma=5):\n",
        "  return np.exp((-(np.linalg.norm(x-z)**2))/(2*sigma**2))\n",
        "\n",
        "N = len(X)\n",
        "SIM = np.zeros((N,N))\n",
        "for i in range(N):\n",
        "    for j in range(N):\n",
        "        SIM[i,j] = simfunc(X[i],X[j])"
      ],
      "metadata": {
        "id": "K178XgTneQ1f",
        "colab": {
          "base_uri": "https://localhost:8080/"
        },
        "outputId": "f8d911de-6f49-4918-e3ef-65cc6c70f1df"
      },
      "execution_count": null,
      "outputs": [
        {
          "output_type": "stream",
          "name": "stdout",
          "text": [
            "--2023-09-02 01:03:14--  https://cs.joensuu.fi/sipu/datasets/R15.txt\n",
            "Resolving cs.joensuu.fi (cs.joensuu.fi)... 193.167.239.10\n",
            "Connecting to cs.joensuu.fi (cs.joensuu.fi)|193.167.239.10|:443... connected.\n",
            "HTTP request sent, awaiting response... 200 OK\n",
            "Length: 9548 (9.3K) [text/plain]\n",
            "Saving to: ‘R15.txt’\n",
            "\n",
            "R15.txt             100%[===================>]   9.32K  --.-KB/s    in 0s      \n",
            "\n",
            "2023-09-02 01:03:15 (195 MB/s) - ‘R15.txt’ saved [9548/9548]\n",
            "\n"
          ]
        }
      ]
    },
    {
      "cell_type": "code",
      "source": [
        "from itertools import combinations\n",
        "def find_max_upper(X):\n",
        "  N= len(X)\n",
        "  idx = list(range(N))\n",
        "  L =[]\n",
        "  for triplet in combinations(idx ,3):\n",
        "    l=[]\n",
        "    for j in combinations(list(triplet),2):\n",
        "        l.append(SIM[j[0]][j[1]])\n",
        "    L.append(max(l))\n",
        "  sumi=0\n",
        "  for l in L:\n",
        "    sumi += l\n",
        "  del l\n",
        "  del L\n",
        "  up = (sumi*2)/(N*(N-1))\n",
        "  return up"
      ],
      "metadata": {
        "id": "R_3-_lh1dh96"
      },
      "execution_count": null,
      "outputs": []
    },
    {
      "cell_type": "code",
      "source": [
        "import sys\n",
        "print(sys.getrecursionlimit())"
      ],
      "metadata": {
        "colab": {
          "base_uri": "https://localhost:8080/"
        },
        "id": "BqejpehBIjoR",
        "outputId": "d6c6b8cc-cd7b-47be-c203-1aa2e5656493"
      },
      "execution_count": null,
      "outputs": [
        {
          "output_type": "stream",
          "name": "stdout",
          "text": [
            "1000\n"
          ]
        }
      ]
    },
    {
      "cell_type": "code",
      "source": [
        "sys.setrecursionlimit(3000)"
      ],
      "metadata": {
        "id": "b2OfwqzZImXr"
      },
      "execution_count": null,
      "outputs": []
    },
    {
      "cell_type": "code",
      "source": [
        "m = find_max_upper(X)"
      ],
      "metadata": {
        "id": "QZvuhWwTGRuE"
      },
      "execution_count": null,
      "outputs": []
    },
    {
      "cell_type": "code",
      "source": [
        "def frac( x , maxupper):\n",
        "  r = (100*x)/maxupper\n",
        "  return r"
      ],
      "metadata": {
        "id": "FUlGWWTQftz7"
      },
      "execution_count": null,
      "outputs": []
    },
    {
      "cell_type": "code",
      "source": [
        "class Node:\n",
        "    def __init__(self, val):\n",
        "        self.parent = None\n",
        "        self.left = None\n",
        "        self.right = None\n",
        "        self.element = val\n",
        "\n",
        "    def __iter__(self):\n",
        "        if self.left:\n",
        "            yield from self.left\n",
        "\n",
        "        yield int(self.element)\n",
        "\n",
        "        yield self.parent\n",
        "\n",
        "        if self.right:\n",
        "            yield from self.right\n",
        "\n",
        "\n",
        "\n",
        "    def display(self):\n",
        "            lines, *_ = self._display_aux()\n",
        "            for line in lines:\n",
        "                print(line)\n",
        "\n",
        "    def _display_aux(self):\n",
        "            \"\"\"Returns list of strings, width, height, and horizontal coordinate of the root.\"\"\"\n",
        "            # No child.\n",
        "            if self.right is None and self.left is None:\n",
        "                line = '%s' % self.element\n",
        "                width = len(line)\n",
        "                height = 1\n",
        "                middle = width // 2\n",
        "                return [line], width, height, middle\n",
        "\n",
        "            # Only left child.\n",
        "            if self.right is None:\n",
        "                lines, n, p, x = self.left._display_aux()\n",
        "                s = '%s' % self.element\n",
        "                u = len(s)\n",
        "                first_line = (x + 1) * ' ' + (n - x - 1) * '_' + s\n",
        "                second_line = x * ' ' + '/' + (n - x - 1 + u) * ' '\n",
        "                shifted_lines = [line + u * ' ' for line in lines]\n",
        "                return [first_line, second_line] + shifted_lines, n + u, p + 2, n + u // 2\n",
        "\n",
        "            # Only right child.\n",
        "            if self.left is None:\n",
        "                lines, n, p, x = self.right._display_aux()\n",
        "                s = '%s' % self.element\n",
        "                u = len(s)\n",
        "                first_line = s + x * '_' + (n - x) * ' '\n",
        "                second_line = (u + x) * ' ' + '\\\\' + (n - x - 1) * ' '\n",
        "                shifted_lines = [u * ' ' + line for line in lines]\n",
        "                return [first_line, second_line] + shifted_lines, n + u, p + 2, u // 2\n",
        "\n",
        "            # Two children.\n",
        "            left, n, p, x = self.left._display_aux()\n",
        "            right, m, q, y = self.right._display_aux()\n",
        "            s = '%s' % self.element\n",
        "            u = len(s)\n",
        "            first_line = (x + 1) * ' ' + (n - x - 1) * '_' + s + y * '_' + (m - y) * ' '\n",
        "            second_line = x * ' ' + '/' + (n - x - 1 + u + y) * ' ' + '\\\\' + (m - y - 1) * ' '\n",
        "            if p < q:\n",
        "                left += [n * ' '] * (q - p)\n",
        "            elif q < p:\n",
        "                right += [m * ' '] * (p - q)\n",
        "            zipped_lines = zip(left, right)\n",
        "            lines = [first_line, second_line] + [a + u * ' ' + b for a, b in zipped_lines]\n",
        "            return lines, n + m + u, max(p, q) + 2, n + u // 2\n",
        "\n"
      ],
      "metadata": {
        "id": "yXT-2hRQOeb-"
      },
      "execution_count": null,
      "outputs": []
    },
    {
      "cell_type": "code",
      "source": [
        "class BinaryTree:\n",
        "    def __init__(self):\n",
        "        self.root = None\n",
        "\n",
        "    def getRoot(self):\n",
        "        return self.root\n",
        "\n",
        "    def addroot(self,val):\n",
        "        if self.root is not None:\n",
        "           print(\"Tree is not empty!\")\n",
        "        else:\n",
        "           self.root = Node(val)\n",
        "\n",
        "    def addleft(self,p, val):\n",
        "        if (p is None):\n",
        "            print(\"Empty Reference!\")\n",
        "            return\n",
        "        if(p.left is not None):\n",
        "            print(\"Left child is already present!\")\n",
        "            return\n",
        "        else:\n",
        "            p.left = Node(val)\n",
        "            return p.left\n",
        "\n",
        "    def addright(self,p, val):\n",
        "        if (p is None):\n",
        "            print(\"Empty Reference!\")\n",
        "            return\n",
        "        if (p.right is not None):\n",
        "            print(\"Right child is already present!\")\n",
        "            return\n",
        "        else:\n",
        "            p.right = Node(val)\n",
        "            return p.right\n",
        "\n",
        "    def is_leaf(self, p):\n",
        "        if (p!=None and p.left==None and p.right==None):\n",
        "            return True\n",
        "        else:\n",
        "            return False\n",
        "\n",
        "    def deleteTree(self):\n",
        "        self.root = None\n",
        "\n",
        "    def inOrder(self):\n",
        "        if(self.root is not None):\n",
        "            self._inOrder(self.root)\n",
        "\n",
        "    def _inOrder(self, node):\n",
        "        if(node is not None):\n",
        "            self._inOrder(node.left)\n",
        "            print(str(node.element) + ' ',end='')\n",
        "            self._inOrder(node.right)\n",
        "\n",
        "    def get_leaves(self):\n",
        "        L = []\n",
        "        if(self.root is not None):\n",
        "            self._get_leaves(self.root, L)\n",
        "        return L\n",
        "\n",
        "    def _get_leaves(self, node, L):\n",
        "        if(node is not None):\n",
        "            self._get_leaves(node.left, L)\n",
        "            if self.is_leaf(node):\n",
        "                L.append(node.element)\n",
        "            self._get_leaves(node.right, L)\n",
        "\n",
        "    def subtreecopy(self, node):\n",
        "\n",
        "        if node is None:\n",
        "            return node\n",
        "        else:\n",
        "            p = Node(node.element)\n",
        "            p.left = self.subtreecopy(node.left)\n",
        "            p.right = self.subtreecopy(node.right)\n",
        "            return p\n",
        "\n",
        "    def MWrev(self):\n",
        "        if (self.root is not None):\n",
        "            return self._MWrev(self.root)\n",
        "        else: return 0\n",
        "\n",
        "\n",
        "    def _MWrev(self, node):\n",
        "        N= len(self.get_leaves())\n",
        "        if (node is not None):\n",
        "            ab = 0\n",
        "            LA = []\n",
        "            self._get_leaves(node.left, LA)\n",
        "            LB = []\n",
        "            self._get_leaves(node.right, LB)\n",
        "            for x in LA:\n",
        "                for y in LB:\n",
        "                    ab += SIM[x,y]*(N-len(LA)-len(LB))\n",
        "            la = self._MWrev(node.left)\n",
        "            lb = self._MWrev(node.right)\n",
        "            return la + lb + ab\n",
        "\n",
        "        else:\n",
        "            return 0\n",
        "\n",
        "\n",
        "\n",
        "    def __iter__(self):\n",
        "        if self.root is not None:\n",
        "            yield from self.root\n",
        "\n",
        "    def display(self):\n",
        "        if self.root is not None:\n",
        "            self.root.display()\n",
        "\n",
        "    def findparent(self , root , node , parent=None ) :\n",
        "      if root is not None:\n",
        "        if (root.element==node.element):\n",
        "          return parent\n",
        "        else:\n",
        "          if node.element[1] <= root.element[1]:\n",
        "            return self.findparent(root.left,node,root)\n",
        "          else:\n",
        "            return self.findparent(root.right,node,root)\n",
        "\n",
        "    def where_Ins_rc(self,n,p):\n",
        "      if (n is not None):\n",
        "        if p<= n.element[1]:\n",
        "          if self.is_leaf(n.left):\n",
        "            return n\n",
        "          elif min(n.left.element[0]) <= p and p <= max(n.left.element[0]):\n",
        "              return self.where_Ins_rc(n.left,p)\n",
        "          else:\n",
        "            return n\n",
        "        else:\n",
        "          if self.is_leaf(n.right):\n",
        "            return n\n",
        "          elif min(n.right.element[0]) <= p and p <= max(n.right.element[0]):\n",
        "              return self.where_Ins_rc(n.right , p)\n",
        "          else:\n",
        "            return n\n",
        "\n",
        "        #if self.is_leaf(node):\n",
        "          #parent = self.findparent(self.root,node,-1)\n",
        "          #return parent\n"
      ],
      "metadata": {
        "id": "-C5uwljdOgfX"
      },
      "execution_count": null,
      "outputs": []
    },
    {
      "cell_type": "code",
      "source": [
        "def delete(node):\n",
        "  if node is not None:\n",
        "    delete(node.left)\n",
        "    delete(node.right)\n",
        "    node.left=node.right=None\n",
        "    del node\n"
      ],
      "metadata": {
        "id": "7O88qrI6VGuP"
      },
      "execution_count": null,
      "outputs": []
    },
    {
      "cell_type": "code",
      "source": [
        "def Merge(T1,T2,r): ## merge two binary trees\n",
        "#'%s'%(r)\n",
        "    r = Node(r)\n",
        "    T = BinaryTree()\n",
        "    T.root = r\n",
        "    T.root.left = T1.root\n",
        "    T.root.right = T2.root\n",
        "\n",
        "    return T"
      ],
      "metadata": {
        "id": "UOK1QEpvGP20"
      },
      "execution_count": null,
      "outputs": []
    },
    {
      "cell_type": "code",
      "source": [
        "def leftsubtree(t):\n",
        "  T = BinaryTree()\n",
        "  node = t.subtreecopy(t.root.left)\n",
        "  T.root = node\n",
        "  return T\n",
        "\n",
        "def rightsubtree(t):\n",
        "  T = BinaryTree()\n",
        "  node = t.subtreecopy(t.root.right)\n",
        "  T.root = node\n",
        "  return T"
      ],
      "metadata": {
        "id": "hesl7iAZERDr"
      },
      "execution_count": null,
      "outputs": []
    },
    {
      "cell_type": "code",
      "source": [
        "cut=0\n",
        "#X is base dataset\n",
        "#Y is projected of X\n",
        "#YL is label of datas which is input of randomcut\n",
        "\n",
        "def randomcut(YL,tree=BinaryTree()):\n",
        "\n",
        "  if len(YL)==1:\n",
        "    t= BinaryTree()\n",
        "    tree = Merge(tree,t,YL[0])\n",
        "    return tree\n",
        "\n",
        "  mini = Y[YL[0]]\n",
        "  for i in YL:\n",
        "    if Y[i] < mini:\n",
        "      mini = Y[i]\n",
        "\n",
        "  maxi = Y[YL[0]]\n",
        "  for j in YL:\n",
        "    if Y[j] > maxi:\n",
        "      maxi = Y[j]\n",
        "\n",
        "  if mini == maxi:\n",
        "    n = len(YL)\n",
        "    if (n % 2) == 0:\n",
        "      m = n/2\n",
        "    else:\n",
        "      m = (n+1)/2\n",
        "    first_half = YL[:int(m)]\n",
        "    sec_half=YL[int(m):]\n",
        "    tree = Merge(randomcut(first_half,tree),randomcut(sec_half,tree),[YL,mini])\n",
        "    return tree\n",
        "\n",
        "  r  = random.uniform(mini ,maxi)\n",
        "  X_plus=[]\n",
        "  X_mines=[]\n",
        "  for x in YL:\n",
        "    if Y[x] > r:\n",
        "      X_plus.append(x)\n",
        "    else:\n",
        "      X_mines.append(x)\n",
        "\n",
        "\n",
        "  tree = Merge(randomcut(X_mines,tree),randomcut(X_plus,tree),[YL,r])\n",
        "\n",
        "\n",
        "  global cut\n",
        "  cut += 1\n",
        "  return tree\n"
      ],
      "metadata": {
        "id": "fzF0aQYUAbZq"
      },
      "execution_count": null,
      "outputs": []
    },
    {
      "cell_type": "code",
      "source": [
        "def prc(M):\n",
        "  n = len(Y)\n",
        "  idx = list(range( M))\n",
        "  t = randomcut(idx,tree=BinaryTree())\n",
        "  return t"
      ],
      "metadata": {
        "id": "ssGFzxH9QzI7"
      },
      "execution_count": null,
      "outputs": []
    },
    {
      "cell_type": "code",
      "source": [
        "tt = prc()"
      ],
      "metadata": {
        "id": "YxPYPlSyTJwU"
      },
      "execution_count": null,
      "outputs": []
    },
    {
      "cell_type": "code",
      "source": [
        "rev = tt.MWrev()\n",
        "print('MW = ',rev)\n",
        "print('MW (normalized) = ',(rev*2)/(N*(N-1)))"
      ],
      "metadata": {
        "colab": {
          "base_uri": "https://localhost:8080/"
        },
        "id": "keVHLuP4Tb0y",
        "outputId": "71608829-7364-4a69-a501-7fa6fe74b715"
      },
      "execution_count": null,
      "outputs": [
        {
          "output_type": "stream",
          "name": "stdout",
          "text": [
            "MW =  57146.224771558635\n",
            "MW (normalized) =  0.03541303358329128\n"
          ]
        }
      ]
    },
    {
      "cell_type": "code",
      "source": [
        "timprc=[]\n",
        "for m in range(1,600,50):\n",
        "  start = time.time()\n",
        "  prc(m)\n",
        "  end = time.time()\n",
        "  timprc.append(end-start)\n"
      ],
      "metadata": {
        "id": "VwsW6PDqYUVg"
      },
      "execution_count": null,
      "outputs": []
    },
    {
      "cell_type": "code",
      "source": [
        "def _OnlineRC(t,new):\n",
        "    if t.getRoot() == None :\n",
        "      t.addroot(new)\n",
        "      return t\n",
        "    L = t.get_leaves()\n",
        "    if len(L)==1:\n",
        "      L.append(new)\n",
        "      t = randomcut(L)\n",
        "      return t\n",
        "\n",
        "    min = Y[L[0]]\n",
        "    for i in L:\n",
        "      if Y[i] < min:\n",
        "        min = Y[i]\n",
        "\n",
        "    max= Y[L[0]]\n",
        "    for j in L:\n",
        "      if Y[j] > max :\n",
        "        max = Y[i]\n",
        "\n",
        "    if Y[new] < min or Y[new] > max :\n",
        "      L.append(new)\n",
        "      t = randomcut(L)\n",
        "      return t\n",
        "\n",
        "\n",
        "    elif min<= Y[new] and max>= Y[new]:\n",
        "      root = t.getRoot()\n",
        "      if Y[new] <= root.element[1]:\n",
        "        t.root.left = _OnlineRC(leftsubtree(t),new).root\n",
        "      else:\n",
        "        t.root.right = _OnlineRC(rightsubtree(t),new).root\n",
        "      return t\n"
      ],
      "metadata": {
        "id": "oLZ0rIyY41td"
      },
      "execution_count": null,
      "outputs": []
    },
    {
      "cell_type": "code",
      "source": [
        "def onlineRC_main(M):\n",
        "   tree = BinaryTree()\n",
        "   n = len(Y)\n",
        "   idx = list(range(M))\n",
        "   for i in idx:\n",
        "    tree = _OnlineRC(tree,i)\n",
        "   return tree"
      ],
      "metadata": {
        "id": "hetX8HU3YijI"
      },
      "execution_count": null,
      "outputs": []
    },
    {
      "cell_type": "code",
      "source": [
        "t = onlineRC_main()"
      ],
      "metadata": {
        "id": "p6pUoboeSIoF"
      },
      "execution_count": null,
      "outputs": []
    },
    {
      "cell_type": "code",
      "source": [
        "timorc=[]\n",
        "for m in range(1,600,50):\n",
        "  start = time.time()\n",
        "  onlineRC_main(m)\n",
        "  end = time.time()\n",
        "  timorc.append(end-start)\n"
      ],
      "metadata": {
        "id": "Qq6OIkQhYrCF"
      },
      "execution_count": null,
      "outputs": []
    },
    {
      "cell_type": "code",
      "source": [
        "timrct =[1.9073486328125e-05, 0.06008124351501465, 0.13349699974060059, 0.2681722640991211, 0.3717360496520996, 0.37290048599243164, 0.5801141262054443, 0.8240096569061279, 0.7956094741821289, 0.9760394096374512, 1.2663302421569824, 2.1878538131713867]"
      ],
      "metadata": {
        "id": "GpYwhE6igqMS"
      },
      "execution_count": null,
      "outputs": []
    },
    {
      "cell_type": "code",
      "source": [
        "timotd = [1.5735626220703125e-05, 0.009739875793457031, 0.02636265754699707, 0.05525612831115723, 0.11187505722045898]"
      ],
      "metadata": {
        "id": "78Dc-ozDxis_"
      },
      "execution_count": null,
      "outputs": []
    },
    {
      "cell_type": "code",
      "source": [
        "!pip install python-bidi\n",
        "!pip install arabic-reshaper"
      ],
      "metadata": {
        "id": "bApkkd0aZwX2",
        "colab": {
          "base_uri": "https://localhost:8080/"
        },
        "outputId": "3ee428b1-68a0-4033-df3d-f7b777ba6f74"
      },
      "execution_count": null,
      "outputs": [
        {
          "output_type": "stream",
          "name": "stdout",
          "text": [
            "Collecting python-bidi\n",
            "  Downloading python_bidi-0.4.2-py2.py3-none-any.whl (30 kB)\n",
            "Requirement already satisfied: six in /usr/local/lib/python3.10/dist-packages (from python-bidi) (1.16.0)\n",
            "Installing collected packages: python-bidi\n",
            "Successfully installed python-bidi-0.4.2\n",
            "Collecting arabic-reshaper\n",
            "  Downloading arabic_reshaper-3.0.0-py3-none-any.whl (20 kB)\n",
            "Installing collected packages: arabic-reshaper\n",
            "Successfully installed arabic-reshaper-3.0.0\n"
          ]
        }
      ]
    },
    {
      "cell_type": "code",
      "source": [
        "from bidi.algorithm import get_display\n",
        "from arabic_reshaper import reshape\n",
        "df2 = pd.DataFrame({'data size':range(1,600,50),'PRC':timprc ,'OPRC':timorc , 'RCT':timrct })\n",
        "plt.plot('data size','PRC',data = df2 , marker = 'o', markerfacecolor = 'green', markersize=8, color= 'lightgreen', linewidth=2)\n",
        "plt.plot('data size','OPRC',data = df2 , marker = 'o', markerfacecolor = 'blue', markersize=8, color= 'skyblue', linewidth=2)\n",
        "plt.plot('data size','RCT',data = df2 , marker = 'o', markerfacecolor = 'darkorange', markersize=8, color= 'orange', linewidth=2)\n",
        "#plt.plot('data size','OTD',data = df2 , marker = 'o', markerfacecolor = 'red', markersize=8, color= 'lightcoral', linewidth=2)\n",
        "plt.xlabel(get_display(reshape('اندازه داده ها')))\n",
        "plt.ylabel(get_display(reshape('زمان اجرا (ثانیه)')))\n",
        "plt.legend()\n",
        "plt.show()"
      ],
      "metadata": {
        "id": "TIOs3P1EZKug",
        "colab": {
          "base_uri": "https://localhost:8080/",
          "height": 450
        },
        "outputId": "e29746ae-7060-46cf-e7bf-9f9d88a4f2e7"
      },
      "execution_count": null,
      "outputs": [
        {
          "output_type": "display_data",
          "data": {
            "text/plain": [
              "<Figure size 640x480 with 1 Axes>"
            ],
            "image/png": "[encoded data removed]"
          },
          "metadata": {}
        }
      ]
    },
    {
      "cell_type": "code",
      "source": [
        "# npoints2 = np.array([])\n",
        "# cutpoints2 = np.array([])\n",
        "# for n in range(100,1100)[::100]:\n",
        "#   cut=0\n",
        "#   np.random.seed(1)\n",
        "#   df = pd.DataFrame({\"C\" : np.random.randint(low=1, high=100, size=n),\n",
        "#                      \"D\"  : np.random.normal(0.0, 1.0, size=n)\n",
        "#                      })\n",
        "#   numn_list = df[df.columns[0]].values.tolist()\n",
        "#   normal_list= df[df.columns[1]].values.tolist()\n",
        "#   tree=BinaryTree()\n",
        "#   for j in normal_list:\n",
        "#     tree = _OnlineRC(tree,j)\n",
        "#   npoints2 = np.append(npoints2,n)\n",
        "#   cutpoints2 =np.append(cutpoints2,cut)\n",
        "\n"
      ],
      "metadata": {
        "id": "eJgvcDZbO75n"
      },
      "execution_count": null,
      "outputs": []
    },
    {
      "cell_type": "code",
      "source": [
        "# npoints = np.array([])\n",
        "# cutpoints = np.array([])\n",
        "# for n in range(1000,10000)[::1000]:\n",
        "#   cut=0\n",
        "#   np.random.seed(1)\n",
        "#   df = pd.DataFrame({\"C\" : np.random.randint(low=1, high=100, size=n),\n",
        "#                      \"D\"  : np.random.normal(0.0, 1.0, size=n)\n",
        "#                      })\n",
        "#   numn_list = df[df.columns[0]].values.tolist()\n",
        "#   normal_list= df[df.columns[1]].values.tolist()\n",
        "#   tree=BinaryTree()\n",
        "#   for j in normal_list:\n",
        "#     tree = _OnlineRC(tree,j)\n",
        "#   npoints= np.append(npoints2,n)\n",
        "#   cutpoints =np.append(cutpoints2,cut)\n"
      ],
      "metadata": {
        "id": "8ZSsYTaZZUg3"
      },
      "execution_count": null,
      "outputs": []
    },
    {
      "cell_type": "code",
      "source": [
        "# plt.plot(npoints2, cutpoints2)\n",
        "# plt.xlabel('n', fontsize = 15)\n",
        "# plt.ylabel('number of cuts', fontsize = 15)\n",
        "# plt.show()"
      ],
      "metadata": {
        "id": "O8FBVXlKTlHn"
      },
      "execution_count": null,
      "outputs": []
    },
    {
      "cell_type": "code",
      "source": [
        "# mydata=[]\n",
        "# npoints = np.array([])\n",
        "# cutpoints = np.array([])\n",
        "# for n in range(100,1000)[::100]:\n",
        "#   cut=0\n",
        "#   randomList=[]\n",
        "#   for i in range(n):\n",
        "#     r=round(random.uniform(0,100),2)\n",
        "#     if r not in randomList:\n",
        "#       randomList.append(r)\n",
        "#   tree = BinaryTree()\n",
        "#   for j in randomList:\n",
        "#     tree = _OnlineRC(tree,j)\n",
        "#   mydata.append([n,cut])\n",
        "#   npoints = np.append(npoints,n)\n",
        "#   cutpoints=np.append(cutpoints,cut)"
      ],
      "metadata": {
        "id": "jk7iC-LS3uaU"
      },
      "execution_count": null,
      "outputs": []
    },
    {
      "cell_type": "code",
      "source": [
        "# plt.plot(npoints, cutpoints)\n",
        "# plt.xlabel('n', fontsize = 15)\n",
        "# plt.ylabel('number of cuts', fontsize = 15)\n",
        "# plt.show()"
      ],
      "metadata": {
        "id": "tb-CsAUs4XRf"
      },
      "execution_count": null,
      "outputs": []
    },
    {
      "cell_type": "code",
      "source": [
        "# sum=0\n",
        "# for i in range(11):\n",
        "#   tree_iris = randomcut(project_iris)\n",
        "#   rev=tree_iris.MWrev()\n",
        "#   norm=(rev*2)/(149*(149-1))\n",
        "#   sum += norm\n",
        "# print(sum)\n",
        "# print('MW averaged over 10 runs= ',sum/10)"
      ],
      "metadata": {
        "id": "yh2MhPdTyph1"
      },
      "execution_count": null,
      "outputs": []
    },
    {
      "cell_type": "code",
      "source": [
        "# tree_iris = randomcut(X)\n",
        "# N = len(tree_iris.get_leaves())\n",
        "#rev = tree_iris.MWrev()\n",
        "# print('MW = ',rev)\n",
        "# print('MW (normalized) = ',(rev*2)/(N*(N-1)))"
      ],
      "metadata": {
        "id": "ghUqoGARjz9K"
      },
      "execution_count": null,
      "outputs": []
    },
    {
      "cell_type": "code",
      "source": [
        "# tree = BinaryTree()\n",
        "# for i in X:\n",
        "#   tree=_OnlineRC(tree,i)"
      ],
      "metadata": {
        "id": "EensStsItP3u"
      },
      "execution_count": null,
      "outputs": []
    },
    {
      "cell_type": "code",
      "source": [
        "rev = t.MWrev()\n",
        "print('MW = ',rev)\n",
        "print('MW (normalized) = ',(rev*2)/(N*(N-1)))"
      ],
      "metadata": {
        "colab": {
          "base_uri": "https://localhost:8080/"
        },
        "id": "ShyUj7Y_SY-c",
        "outputId": "6ade5a15-cd28-4e28-f5a5-7439773dcc71"
      },
      "execution_count": null,
      "outputs": [
        {
          "output_type": "stream",
          "name": "stdout",
          "text": [
            "MW =  48281.017478959715\n",
            "MW (normalized) =  0.029919339383357137\n"
          ]
        }
      ]
    },
    {
      "cell_type": "code",
      "source": [
        "rev =0\n",
        "for i in range(0,10):\n",
        "  tt = onlineRC_main()\n",
        "  rev += tt.MWrev()\n",
        "rev = rev / 10\n",
        "\n",
        "\n",
        "print('MW = ',rev)\n",
        "print('MW (normalized) = ',(rev*2)/(N*(N-1)))"
      ],
      "metadata": {
        "id": "RBsvdk4ES7-w"
      },
      "execution_count": null,
      "outputs": []
    },
    {
      "cell_type": "code",
      "source": [
        "import time\n",
        "start = time.time()\n",
        "onlineRC_main()\n",
        "end = time.time()\n",
        "\n",
        "taken_time = end - start\n"
      ],
      "metadata": {
        "id": "AvH6VYSWTS2l"
      },
      "execution_count": null,
      "outputs": []
    },
    {
      "cell_type": "code",
      "source": [
        "taken_time"
      ],
      "metadata": {
        "id": "ie_4ujt7Z-Y0"
      },
      "execution_count": null,
      "outputs": []
    },
    {
      "cell_type": "code",
      "source": [
        "import time\n",
        "t = 0\n",
        "for i in range(10):\n",
        "  start = time.time()\n",
        "  onlineRC_main()\n",
        "  end = time.time()\n",
        "  taken_time = end - start\n",
        "  t += taken_time\n",
        "average_time = t/10\n",
        "print(\"The average time of the onlineRC algorithm in 10 run is \" ,average_time )"
      ],
      "metadata": {
        "id": "1CMgcT1Z63-7"
      },
      "execution_count": null,
      "outputs": []
    },
    {
      "cell_type": "code",
      "source": [
        "print(taken_time)"
      ],
      "metadata": {
        "id": "IAQNQK3gW3fv"
      },
      "execution_count": null,
      "outputs": []
    },
    {
      "cell_type": "code",
      "source": [
        "# npoints4 = np.array([])\n",
        "# cutpoints4 = np.array([])\n",
        "# for i in range(10,len(X))[::100]:\n",
        "#   cut=0\n",
        "#   Y = sample(X,i)\n",
        "#   tree = BinaryTree()\n",
        "#   for j in range(len(Y)):\n",
        "#     tree=_OnlineRC(tree,Y[j])\n",
        "#   npoints4 = np.append(npoints4,i)\n",
        "#   cutpoints4 = np.append(cutpoints4,cut)\n"
      ],
      "metadata": {
        "id": "y5dAFOS2y_i3"
      },
      "execution_count": null,
      "outputs": []
    },
    {
      "cell_type": "code",
      "source": [
        "# plt.plot(npoints4, cutpoints4)\n",
        "# plt.xlabel('n', fontsize = 15)\n",
        "# plt.ylabel('number of cuts', fontsize = 15)\n",
        "# plt.title(\"mnist\")\n",
        "# plt.show()\n"
      ],
      "metadata": {
        "id": "alb3jR8lGQVI"
      },
      "execution_count": null,
      "outputs": []
    },
    {
      "cell_type": "code",
      "source": [
        "# max(cutpoints4)"
      ],
      "metadata": {
        "id": "oM8m2_Mu3svo"
      },
      "execution_count": null,
      "outputs": []
    }
  ]
}